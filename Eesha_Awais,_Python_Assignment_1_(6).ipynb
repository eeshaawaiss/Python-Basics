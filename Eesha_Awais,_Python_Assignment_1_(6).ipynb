{
  "cells": [
    {
      "cell_type": "code",
      "execution_count": null,
      "id": "d10c0d5e",
      "metadata": {
        "id": "d10c0d5e"
      },
      "outputs": [],
      "source": [
        "#Task 1: Variables and Data Types"
      ]
    },
    {
      "cell_type": "code",
      "execution_count": null,
      "id": "2fb7e64a",
      "metadata": {
        "id": "2fb7e64a",
        "outputId": "c5be5cca-8618-4056-fa65-48b34c10e7ad"
      },
      "outputs": [
        {
          "name": "stdout",
          "output_type": "stream",
          "text": [
            "My age is 19\n",
            "My name is Eesha\n",
            "I am a student True\n"
          ]
        }
      ],
      "source": [
        "#a) Create three variables: one for storing your age (integer), one for your name (string), and one to check if you are a student (Boolean). Print the variables.\n",
        "age = 19\n",
        "name = \"Eesha\"\n",
        "student = True\n",
        "print(\"My age is\", age)\n",
        "print(\"My name is\", name)\n",
        "print(\"I am a student\", student)"
      ]
    },
    {
      "cell_type": "code",
      "execution_count": null,
      "id": "db613556",
      "metadata": {
        "id": "db613556",
        "outputId": "1243f096-c9c2-4a2e-c93d-d3255d187297"
      },
      "outputs": [
        {
          "name": "stdout",
          "output_type": "stream",
          "text": [
            "updated age is 44\n",
            "updates name is Eesha Smith.\n",
            "updates student status is False\n"
          ]
        }
      ],
      "source": [
        "#b) Perform the following operations and print the results:\n",
        "#Add 25 to your age variable.\n",
        "age += 25\n",
        "#Concatenate your name with the string \"\"Smith.\"\n",
        "name = name+\" Smith.\"\n",
        "#Negate the Boolean variable (if True, make it False, and vice versa).\n",
        "student = not student\n",
        "print(\"updated age is\", age)\n",
        "print(\"updates name is\", name)\n",
        "print(\"updates student status is\", student)"
      ]
    },
    {
      "cell_type": "code",
      "execution_count": null,
      "id": "33b227cd",
      "metadata": {
        "id": "33b227cd"
      },
      "outputs": [],
      "source": [
        "#Task 2: Expressions and Operators"
      ]
    },
    {
      "cell_type": "code",
      "execution_count": null,
      "id": "5d63d3a2",
      "metadata": {
        "id": "5d63d3a2",
        "outputId": "c4bccd24-2230-4cf1-d420-10ffc1f5fd2a"
      },
      "outputs": [
        {
          "name": "stdout",
          "output_type": "stream",
          "text": [
            "The area of the rectangle is 17.875 units\n"
          ]
        }
      ],
      "source": [
        "#a) A rectangle has a width of 5.5 units and a height of 3.25 units. Store width and height in variables. Create a new variable called area and write an expression to calculate the area. Print the area in the output.\n",
        "width = 5.5\n",
        "height = 3.25\n",
        "area = width*height\n",
        "print(\"The area of the rectangle is\", area, \"units\")"
      ]
    },
    {
      "cell_type": "code",
      "execution_count": null,
      "id": "de7c0f71",
      "metadata": {
        "id": "de7c0f71",
        "outputId": "5194c909-4eee-4a9e-88c2-dec0b63a5418"
      },
      "outputs": [
        {
          "name": "stdout",
          "output_type": "stream",
          "text": [
            "enter temperature in celsius: 28\n",
            "the temperature in fahrenheit is:  82.4\n"
          ]
        }
      ],
      "source": [
        "#b) Create a temperature variable in Celsius. Convert it to Fahrenheit using the formula: F = (C * 9/5)+ 32. Store this temperature in a variable called Fahrenheit and print this variable.\n",
        "Celsius = int(input(\"enter temperature in celsius: \"))\n",
        "Fahrenheit = (Celsius*(9/5))+32\n",
        "print(\"the temperature in fahrenheit is: \", Fahrenheit)"
      ]
    },
    {
      "cell_type": "code",
      "execution_count": null,
      "id": "d9dd563d",
      "metadata": {
        "id": "d9dd563d",
        "outputId": "934012c2-37dc-4aa2-c13d-a9ed34d2bb14"
      },
      "outputs": [
        {
          "name": "stdout",
          "output_type": "stream",
          "text": [
            "the area of the circle is 78.53975\n"
          ]
        }
      ],
      "source": [
        "#c) Create a variable called radius and give it a value of 5. Calculate the area of a circle with this radius and store it in a variable called area. Print area at the end of your code. (Use the formula: area = π * radius^2, where π (pi) is approximately 3.14159).\n",
        "radius = 5\n",
        "area = 3.14159*radius**2\n",
        "print(\"the area of the circle is\", area)"
      ]
    },
    {
      "cell_type": "code",
      "execution_count": null,
      "id": "65ce1c19",
      "metadata": {
        "id": "65ce1c19"
      },
      "outputs": [],
      "source": [
        "#Task 3: Introduction to Data Structures"
      ]
    },
    {
      "cell_type": "code",
      "execution_count": null,
      "id": "f3787d7e",
      "metadata": {
        "id": "f3787d7e",
        "outputId": "5b8a1630-1f2b-4d6e-e091-79f8369cb55a"
      },
      "outputs": [
        {
          "name": "stdout",
          "output_type": "stream",
          "text": [
            "['apple', 'banana', 'orange', 'grape', 'kiwi']\n"
          ]
        }
      ],
      "source": [
        "#a) Create a list called \"fruits\" containing the following fruits: \"apple\", \"banana\", \"orange\", \"grape\", and \"kiwi\". Print the list.\n",
        "fruits = [\"apple\", \"banana\", \"orange\", \"grape\", \"kiwi\"]\n",
        "print(fruits)"
      ]
    },
    {
      "cell_type": "code",
      "execution_count": null,
      "id": "4519e149",
      "metadata": {
        "id": "4519e149",
        "outputId": "b0cbdd80-2095-4a19-c05d-071f94a3dd40"
      },
      "outputs": [
        {
          "name": "stdout",
          "output_type": "stream",
          "text": [
            "('January', 'February', 'March')\n"
          ]
        }
      ],
      "source": [
        "#b) Create a tuple named \"months\" with the names of the first three months of the year. Print the tuple.\n",
        "months = (\"January\", \"February\", \"March\")\n",
        "print(months)"
      ]
    },
    {
      "cell_type": "code",
      "execution_count": null,
      "id": "926af463",
      "metadata": {
        "id": "926af463"
      },
      "outputs": [],
      "source": [
        "#Task 4: List Manipulation"
      ]
    },
    {
      "cell_type": "code",
      "execution_count": null,
      "id": "8a6c1c93",
      "metadata": {
        "id": "8a6c1c93",
        "outputId": "1204e736-b731-4170-bfa0-e5a05dc5ba12"
      },
      "outputs": [
        {
          "name": "stdout",
          "output_type": "stream",
          "text": [
            "The sum of numbers is 426\n",
            "The average of numbers is 53.25\n"
          ]
        }
      ],
      "source": [
        "#a) Given the list of numbers below, write a Python program to calculate the sum and average of these numbers. Print both results.\n",
        "#numbers = [12, 34, 45, 67, 89, 100, 23, 56]\n",
        "numbers = [12, 34, 45, 67, 89, 100, 23, 56]\n",
        "sum_of_numbers = sum(numbers)\n",
        "avg_of_numbers = sum(numbers)/len(numbers)\n",
        "print(\"The sum of numbers is\", sum_of_numbers)\n",
        "print(\"The average of numbers is\", avg_of_numbers)"
      ]
    },
    {
      "cell_type": "code",
      "execution_count": null,
      "id": "1ab11ea0",
      "metadata": {
        "id": "1ab11ea0",
        "outputId": "b9f77a83-6ca5-4481-f74d-7e7e3118b0a6"
      },
      "outputs": [
        {
          "name": "stdout",
          "output_type": "stream",
          "text": [
            "['banana', 'orange', 'grape']\n",
            "['banana', 'orange', 'grape']\n"
          ]
        }
      ],
      "source": [
        "#b) Remove the first and last elements from the \"fruits\" list created earlier. Print the updated list.\n",
        "#by accessing indivual elements:\n",
        "fruits = [\"apple\", \"banana\", \"orange\", \"grape\", \"kiwi\"]\n",
        "fruits.remove(\"apple\")\n",
        "fruits.remove(\"kiwi\")\n",
        "print(fruits)\n",
        "#by accessing indexes\n",
        "fruits = [\"apple\", \"banana\", \"orange\", \"grape\", \"kiwi\"]\n",
        "fruits.pop(0)\n",
        "fruits.pop(-1)\n",
        "print(fruits)"
      ]
    },
    {
      "cell_type": "code",
      "execution_count": null,
      "id": "2965813b",
      "metadata": {
        "id": "2965813b"
      },
      "outputs": [],
      "source": [
        "#Task 5: Dictionary Operations"
      ]
    },
    {
      "cell_type": "code",
      "execution_count": null,
      "id": "a35332e2",
      "metadata": {
        "id": "a35332e2",
        "outputId": "8bd710ae-699d-4fbe-f0af-49d528e4b238"
      },
      "outputs": [
        {
          "name": "stdout",
          "output_type": "stream",
          "text": [
            "{'USA': 'Washington D.C.', 'France': 'Paris', 'Japan': 'Tokyo'}\n"
          ]
        }
      ],
      "source": [
        "#a) Create a dictionary named \"capitals\" with three key-value pairs: \"USA\" - \"Washington D.C.\", \"France\"- \"Paris\" and \"Japan\" - \"Tokyo\". Print the dictionary.\n",
        "capitals = {\n",
        "    \"USA\" : \"Washington D.C.\" ,\n",
        "    \"France\" : \"Paris\" ,\n",
        "    \"Japan\" : \"Tokyo\"\n",
        "}\n",
        "print(capitals)"
      ]
    },
    {
      "cell_type": "code",
      "execution_count": null,
      "id": "f52df62f",
      "metadata": {
        "id": "f52df62f",
        "outputId": "1953e2d8-3c19-4b9a-a5d8-f83b9b6e6a92"
      },
      "outputs": [
        {
          "name": "stdout",
          "output_type": "stream",
          "text": [
            "{'USA': 'Washington D.C.', 'France': 'Paris', 'Japan': 'Tokyo', 'Germany': 'Berlin'}\n"
          ]
        }
      ],
      "source": [
        "#b) Add a new country and its capital to the \"capitals\" dictionary. The country is \"Germany,\" and the capital is \"Berlin\". Print the updated dictionary.\n",
        "capitals.update({\"Germany\" : \"Berlin\"})\n",
        "print(capitals)"
      ]
    },
    {
      "cell_type": "code",
      "execution_count": null,
      "id": "baa11905",
      "metadata": {
        "id": "baa11905",
        "outputId": "e6cb34b6-74dc-4904-cc08-c91387fc3583"
      },
      "outputs": [
        {
          "name": "stdout",
          "output_type": "stream",
          "text": [
            "France is in the dictionary\n"
          ]
        }
      ],
      "source": [
        "#c) Check if \"France\" exists in the \"capitals\" dictionary. If it does, print \"France is in the dictionary\" otherwise, print \"France is not in the dictionary\" (at the end of the lab notebook for session 1, I have added an example of how to use “in” in python).\n",
        "if \"France\" in capitals:\n",
        "    print(\"France is in the dictionary\")\n",
        "else:\n",
        "    print(\"France is not in the dictionary\")"
      ]
    },
    {
      "cell_type": "code",
      "execution_count": null,
      "id": "d129841c",
      "metadata": {
        "id": "d129841c"
      },
      "outputs": [],
      "source": [
        "#Task 6: Comparison Operators, Logical Operators and If/Else:"
      ]
    },
    {
      "cell_type": "code",
      "execution_count": null,
      "id": "fad88c8b",
      "metadata": {
        "id": "fad88c8b",
        "outputId": "62324b24-6159-4abe-a791-5cd6ace2c922"
      },
      "outputs": [
        {
          "name": "stdout",
          "output_type": "stream",
          "text": [
            "enter a number: 34\n",
            "The number is even\n"
          ]
        }
      ],
      "source": [
        "#a) Create a variable called number that takes user input (we studied the input() function). Next, write a block of code that checks if the number is even or odd (hint: modulo operator. Refer to lab notebook 1).\n",
        "number = int(input(\"enter a number: \"))\n",
        "if number %2 == 0:\n",
        "    print(\"The number is even\")\n",
        "else:\n",
        "    print(\"The number is odd\")"
      ]
    },
    {
      "cell_type": "code",
      "execution_count": null,
      "id": "5ae1e098",
      "metadata": {
        "id": "5ae1e098",
        "outputId": "58b3db21-ff53-4a5b-d4c5-0b08c280d1b7"
      },
      "outputs": [
        {
          "name": "stdout",
          "output_type": "stream",
          "text": [
            "enter a number: 55\n",
            "The number is odd\n"
          ]
        }
      ],
      "source": [
        "#a) Create a variable called number that takes user input (we studied the input() function). Next, write a block of code that checks if the number is even or odd (hint: modulo operator. Refer to lab notebook 1).\n",
        "number = int(input(\"enter a number: \"))\n",
        "if number %2 == 0:\n",
        "    print(\"The number is even\")\n",
        "else:\n",
        "    print(\"The number is odd\")"
      ]
    },
    {
      "cell_type": "code",
      "execution_count": null,
      "id": "46c7bfe8",
      "metadata": {
        "id": "46c7bfe8",
        "outputId": "1190eb9b-7244-4fb1-cb84-f33fc2492dfd"
      },
      "outputs": [
        {
          "name": "stdout",
          "output_type": "stream",
          "text": [
            "Eligible for admission\n"
          ]
        }
      ],
      "source": [
        "#b) Create two variables called age and GPA. Give them values of your choice. Next, write a block of code to check if a student with this age and GPA is eligible for admission. The following are the conditions:- The student must be at least 18 years old. - The student's GPA must be 3.0 or higher on a scale of 4.0. Your output should print “Eligible for admission” or “Not eligible for admission”.\n",
        "age = 19\n",
        "GPA = 3.6\n",
        "if age >= 18 and GPA >= 3.0:\n",
        "    print(\"Eligible for admission\")\n",
        "else:\n",
        "    print(\"Not eligible for admission\")"
      ]
    },
    {
      "cell_type": "code",
      "execution_count": null,
      "id": "517a7f1d",
      "metadata": {
        "id": "517a7f1d"
      },
      "outputs": [],
      "source": [
        "#Task 7: Advanced Data Types"
      ]
    },
    {
      "cell_type": "code",
      "execution_count": null,
      "id": "91b105fc",
      "metadata": {
        "id": "91b105fc",
        "outputId": "769b4f42-53cc-452d-b1de-b13d3f9f6765"
      },
      "outputs": [
        {
          "name": "stdout",
          "output_type": "stream",
          "text": [
            "{'apple', 'kiwi', 'orange', 'banana', 'grape'}\n"
          ]
        }
      ],
      "source": [
        "#a) Create a set named \"fruits_set\" containing the following fruits: \"apple\", \"banana,\" \"orange\", \"grape,\" and \"kiwi\". Print the set.\n",
        "fruits_set = {\"apple\", \"banana\", \"orange\", \"grape\", \"kiwi\"}\n",
        "print(fruits_set)"
      ]
    },
    {
      "cell_type": "code",
      "execution_count": null,
      "id": "2a4e1bca",
      "metadata": {
        "id": "2a4e1bca",
        "outputId": "e5b43097-fbde-4043-a7c5-1b1d661d2fe9"
      },
      "outputs": [
        {
          "name": "stdout",
          "output_type": "stream",
          "text": [
            "The union of sets is {1, 2, 3, 4, 5, 6, 7}\n"
          ]
        }
      ],
      "source": [
        "#b) Given two sets:\n",
        "set1 = {1, 2, 3, 4, 5}\n",
        "set2 = {3, 4, 5, 6, 7}\n",
        "#Write Python code to perform the following operations and print the results:\n",
        "# Union of set1 and set2.\n",
        "union = set1.union(set2)\n",
        "print(\"The union of sets is\", union)"
      ]
    },
    {
      "cell_type": "code",
      "execution_count": null,
      "id": "5614718b",
      "metadata": {
        "id": "5614718b",
        "outputId": "11d386c1-e2cb-47d9-a9c3-2f9f852f815d"
      },
      "outputs": [
        {
          "name": "stdout",
          "output_type": "stream",
          "text": [
            "The intersection of sets is {3, 4, 5}\n"
          ]
        }
      ],
      "source": [
        "#- Intersection of set1 and set2.\n",
        "intersection = set1.intersection(set2)\n",
        "print(\"The intersection of sets is\", intersection)"
      ]
    },
    {
      "cell_type": "code",
      "execution_count": null,
      "id": "7d6df5d7",
      "metadata": {
        "id": "7d6df5d7",
        "outputId": "cf080b58-fa96-4c76-9244-6448cb208494"
      },
      "outputs": [
        {
          "name": "stdout",
          "output_type": "stream",
          "text": [
            "The difference of set 1 and set 2 is {1, 2}\n"
          ]
        }
      ],
      "source": [
        "#- Difference between set1 and set2.\n",
        "difference = set1.difference(set2)\n",
        "print(\"The difference of set 1 and set 2 is\", difference)"
      ]
    },
    {
      "cell_type": "code",
      "execution_count": null,
      "id": "e6658108",
      "metadata": {
        "id": "e6658108",
        "outputId": "324fa1b3-d9a4-4c26-f6ce-eb0f35308751"
      },
      "outputs": [
        {
          "name": "stdout",
          "output_type": "stream",
          "text": [
            "set1 is a subset of set2 False\n"
          ]
        }
      ],
      "source": [
        "#- Check if set1 is a subset of set2.\n",
        "print(\"set1 is a subset of set2\", set1.issubset(set2))"
      ]
    },
    {
      "cell_type": "code",
      "execution_count": null,
      "id": "79c1c91e",
      "metadata": {
        "id": "79c1c91e"
      },
      "outputs": [],
      "source": [
        "#Task 8: Strings Manipulation"
      ]
    },
    {
      "cell_type": "code",
      "execution_count": null,
      "id": "e29f96fa",
      "metadata": {
        "id": "e29f96fa",
        "outputId": "a9c16097-00b1-471e-a8f4-ecfcc73bc4b2"
      },
      "outputs": [
        {
          "name": "stdout",
          "output_type": "stream",
          "text": [
            "The length of the string is 39\n"
          ]
        }
      ],
      "source": [
        "#Create a string variable containing the following sentence: \"Python programming is fun and powerful!\".Write Python code to do the following and print the results:\n",
        "string = \"Python programming is fun and powerful!\"\n",
        "#- Find the length of the string.)\n",
        "print(\"The length of the string is\", len(string))"
      ]
    },
    {
      "cell_type": "code",
      "execution_count": null,
      "id": "e45570bf",
      "metadata": {
        "id": "e45570bf",
        "outputId": "898a9982-f6fa-4912-d01d-66eecc39920a"
      },
      "outputs": [
        {
          "name": "stdout",
          "output_type": "stream",
          "text": [
            "The string in uppercase:\n",
            "PYTHON PROGRAMMING IS FUN AND POWERFUL!\n"
          ]
        }
      ],
      "source": [
        "#- Convert the string to uppercase.\n",
        "string1 = string.upper()\n",
        "print(\"The string in uppercase:\")\n",
        "print(string1)"
      ]
    },
    {
      "cell_type": "code",
      "execution_count": null,
      "id": "4a9ce497",
      "metadata": {
        "id": "4a9ce497",
        "outputId": "66cb5387-b422-4c43-cfd5-6fbda1af7f23"
      },
      "outputs": [
        {
          "name": "stdout",
          "output_type": "stream",
          "text": [
            "Python programming is exciting and powerful!\n"
          ]
        }
      ],
      "source": [
        "#- Replace \"fun\"with \"exciting\"\n",
        "string2 = string.replace(\"fun\", \"exciting\")\n",
        "print(string2)"
      ]
    },
    {
      "cell_type": "code",
      "execution_count": null,
      "id": "2244778d",
      "metadata": {
        "id": "2244778d",
        "outputId": "b0a706a5-5901-4133-d867-ec4bed6d0ade"
      },
      "outputs": [
        {
          "name": "stdout",
          "output_type": "stream",
          "text": [
            "'Python' is in the string\n"
          ]
        }
      ],
      "source": [
        "#- Check if the string contains the word \"Python\"\n",
        "if \"Python\" in string:\n",
        "    print(\"'Python' is in the string\")\n",
        "else:\n",
        "    print(\"'Python' is not in the string'\")"
      ]
    },
    {
      "cell_type": "code",
      "execution_count": null,
      "id": "28ad1def",
      "metadata": {
        "id": "28ad1def",
        "outputId": "95b2b219-3ee8-4e74-8c9e-cec613486fa5"
      },
      "outputs": [
        {
          "name": "stdout",
          "output_type": "stream",
          "text": [
            "['Python', 'programming', 'is', 'fun', 'and', 'powerful!']\n"
          ]
        }
      ],
      "source": [
        "#- Split the string into a list of words.\n",
        "list_of_words = string.split()\n",
        "print(list_of_words)"
      ]
    },
    {
      "cell_type": "code",
      "execution_count": null,
      "id": "7811974d",
      "metadata": {
        "id": "7811974d"
      },
      "outputs": [],
      "source": [
        "#Task 9: Functions"
      ]
    },
    {
      "cell_type": "code",
      "execution_count": null,
      "id": "073274dc",
      "metadata": {
        "id": "073274dc",
        "outputId": "ea4f0d85-d62f-4adf-aeb7-f349274b8f74"
      },
      "outputs": [
        {
          "name": "stdout",
          "output_type": "stream",
          "text": [
            "enter a string:Learning Python is fun and engaging.\n",
            "the number of vowels in the string are: 10\n"
          ]
        }
      ],
      "source": [
        "#a) Write a function called num_vowels that takes in a string as an argument, and returns the number of vowels in that string. Print out the result for the string “Learning Python is fun and engaging.”\n",
        "def num_vowels(string):\n",
        "     vowels = ['a', 'e', 'i', 'o', 'u', 'A', 'E', 'I', 'O', 'U']\n",
        "     num = 0\n",
        "     for i in string:\n",
        "        if i in vowels:\n",
        "            num += 1\n",
        "     print(\"the number of vowels in the string are:\", num)\n",
        "string = input(\"enter a string:\")\n",
        "num_vowels(string)"
      ]
    },
    {
      "cell_type": "code",
      "execution_count": null,
      "id": "12fc4433",
      "metadata": {
        "id": "12fc4433",
        "outputId": "3ef68027-8f99-4c08-f49e-79a6b0896f81"
      },
      "outputs": [
        {
          "name": "stdout",
          "output_type": "stream",
          "text": [
            "Enter number of hours: 2.5\n",
            "The equivalent number of minutes is: 150.0\n"
          ]
        }
      ],
      "source": [
        "#b) Create a function called hours_to_min that converts hours into minutes. The function should take the number of hours as input and return the equivalent number of minutes. Test the function with 2.5 hours and print the result.\n",
        "def hours_to_min():\n",
        "    hours= float(input(\"Enter number of hours: \"))\n",
        "    minutes = hours*60\n",
        "    print(\"The equivalent number of minutes is:\", minutes)\n",
        "hours_to_min()"
      ]
    },
    {
      "cell_type": "code",
      "execution_count": null,
      "id": "4f276ce4",
      "metadata": {
        "id": "4f276ce4",
        "outputId": "d59227e7-0af9-4e06-d981-22fd1efb32dc"
      },
      "outputs": [
        {
          "name": "stdout",
          "output_type": "stream",
          "text": [
            "1 * 6 = 6\n",
            "2 * 6 = 12\n",
            "3 * 6 = 18\n",
            "4 * 6 = 24\n",
            "5 * 6 = 30\n",
            "6 * 6 = 36\n",
            "7 * 6 = 42\n",
            "8 * 6 = 48\n",
            "9 * 6 = 54\n",
            "10 * 6 = 60\n",
            "11 * 6 = 66\n",
            "12 * 6 = 72\n"
          ]
        }
      ],
      "source": [
        "#c) Write a python function that takes in a number as an argument, and prints out the table of that number up to 12 times that number. You may name this whatever you wish.\n",
        "def table(number):\n",
        "    for i in range(1, 13):\n",
        "        print(i, \"*\", number, \"=\", number*i)\n",
        "\n",
        "table(6)"
      ]
    },
    {
      "cell_type": "code",
      "execution_count": null,
      "id": "ce51f54f",
      "metadata": {
        "id": "ce51f54f"
      },
      "outputs": [],
      "source": []
    }
  ],
  "metadata": {
    "kernelspec": {
      "display_name": "Python 3 (ipykernel)",
      "language": "python",
      "name": "python3"
    },
    "language_info": {
      "codemirror_mode": {
        "name": "ipython",
        "version": 3
      },
      "file_extension": ".py",
      "mimetype": "text/x-python",
      "name": "python",
      "nbconvert_exporter": "python",
      "pygments_lexer": "ipython3",
      "version": "3.9.12"
    },
    "colab": {
      "provenance": []
    }
  },
  "nbformat": 4,
  "nbformat_minor": 5
}